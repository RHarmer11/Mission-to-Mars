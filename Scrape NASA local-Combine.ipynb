{
 "cells": [
  {
   "cell_type": "code",
   "execution_count": 8,
   "metadata": {},
   "outputs": [],
   "source": [
    "from bs4 import BeautifulSoup as bs"
   ]
  },
  {
   "cell_type": "code",
   "execution_count": 9,
   "metadata": {},
   "outputs": [],
   "source": [
    "local_nasa_file = \"News_NASA_Mars_Exploration_Program.html\""
   ]
  },
  {
   "cell_type": "code",
   "execution_count": 10,
   "metadata": {},
   "outputs": [],
   "source": [
    "nasa_html = open(local_nasa_file, \"r\").read()"
   ]
  },
  {
   "cell_type": "code",
   "execution_count": 11,
   "metadata": {},
   "outputs": [],
   "source": [
    "news_soup = bs(nasa_html, \"html.parser\")"
   ]
  },
  {
   "cell_type": "code",
   "execution_count": 12,
   "metadata": {},
   "outputs": [],
   "source": [
    "results = news_soup.find_all('div', class_=\"image_and_description_container\")"
   ]
  },
  {
   "cell_type": "code",
   "execution_count": 13,
   "metadata": {},
   "outputs": [
    {
     "data": {
      "text/plain": [
       "50"
      ]
     },
     "execution_count": 13,
     "metadata": {},
     "output_type": "execute_result"
    }
   ],
   "source": [
    "len(results)"
   ]
  },
  {
   "cell_type": "code",
   "execution_count": 14,
   "metadata": {},
   "outputs": [
    {
     "data": {
      "text/plain": [
       "[<div class=\"image_and_description_container\"><a href=\"https://mars.nasa.gov/news/8390/nasa-insight-landing-on-mars-milestones/\" target=\"_self\"><div class=\"rollover_description\"><div class=\"rollover_description_inner\">On\n",
       "  Nov. 26, NASA's InSight spacecraft will blaze through the Martian \n",
       " atmosphere and set a lander gently on the surface in less time than it \n",
       " takes to cook a hard-boiled egg.</div><div class=\"overlay_arrow\"><img alt=\"More\" src=\"News_NASA_Mars_Exploration_Program_files/overlay-arrow.png\"/></div></div><div class=\"list_image\"><img alt=\"This illustration shows a simulated view of NASA's InSight lander descending towards the surface of Mars on its parachute.\" src=\"News_NASA_Mars_Exploration_Program_files/8390_PIA22809-th.jpg\"/></div><div class=\"bottom_gradient\"><div><h3>NASA InSight Landing on Mars: Milestones</h3></div></div></a><div class=\"list_text\"><div class=\"list_date\">November 21, 2018</div><div class=\"content_title\"><a href=\"https://mars.nasa.gov/news/8390/nasa-insight-landing-on-mars-milestones/\" target=\"_self\">NASA InSight Landing on Mars: Milestones</a></div><div class=\"article_teaser_body\">On\n",
       "  Nov. 26, NASA's InSight spacecraft will blaze through the Martian \n",
       " atmosphere and set a lander gently on the surface in less time than it \n",
       " takes to cook a hard-boiled egg.</div></div></div>,\n",
       " <div class=\"image_and_description_container\"><a href=\"https://mars.nasa.gov/news/8389/nasa-insight-team-on-course-for-mars-touchdown/\" target=\"_self\"><div class=\"rollover_description\"><div class=\"rollover_description_inner\">NASA's Mars InSight spacecraft is on track for a soft touchdown on the surface of the Red Planet on Nov. 26.</div><div class=\"overlay_arrow\"><img alt=\"More\" src=\"News_NASA_Mars_Exploration_Program_files/overlay-arrow.png\"/></div></div><div class=\"list_image\"><img alt=\"\" src=\"News_NASA_Mars_Exploration_Program_files/8389_PIA22100_320.jpg\"/></div><div class=\"bottom_gradient\"><div><h3>NASA InSight Team on Course for Mars Touchdown</h3></div></div></a><div class=\"list_text\"><div class=\"list_date\">November 21, 2018</div><div class=\"content_title\"><a href=\"https://mars.nasa.gov/news/8389/nasa-insight-team-on-course-for-mars-touchdown/\" target=\"_self\">NASA InSight Team on Course for Mars Touchdown</a></div><div class=\"article_teaser_body\">NASA's Mars InSight spacecraft is on track for a soft touchdown on the surface of the Red Planet on Nov. 26.</div></div></div>,\n",
       " <div class=\"image_and_description_container\"><a href=\"https://mars.nasa.gov/news/8388/what-two-planetary-siblings-can-teach-us-about-life/\" target=\"_self\"><div class=\"rollover_description\"><div class=\"rollover_description_inner\">In studying Mars, NASA's InSight will reveal what makes one planet more or less suitable for life than another.</div><div class=\"overlay_arrow\"><img alt=\"More\" src=\"News_NASA_Mars_Exploration_Program_files/overlay-arrow.png\"/></div></div><div class=\"list_image\"><img alt=\"This composite image of Earth and Mars was created to allow viewers to gain a better understanding of the relative sizes of the two planets.\" src=\"News_NASA_Mars_Exploration_Program_files/8388_20030728_marsClose02_320.jpg\"/></div><div class=\"bottom_gradient\"><div><h3>What Two Planetary Siblings Can Teach Us About Life</h3></div></div></a><div class=\"list_text\"><div class=\"list_date\">November 20, 2018</div><div class=\"content_title\"><a href=\"https://mars.nasa.gov/news/8388/what-two-planetary-siblings-can-teach-us-about-life/\" target=\"_self\">What Two Planetary Siblings Can Teach Us About Life</a></div><div class=\"article_teaser_body\">In studying Mars, NASA's InSight will reveal what makes one planet more or less suitable for life than another.</div></div></div>,\n",
       " <div class=\"image_and_description_container\"><a href=\"https://mars.nasa.gov/news/8387/nasa-announces-landing-site-for-mars-2020-rover/\" target=\"_self\"><div class=\"rollover_description\"><div class=\"rollover_description_inner\">After a five-year search, NASA has chosen Jezero Crater as the landing site for its upcoming Mars 2020 rover mission.</div><div class=\"overlay_arrow\"><img alt=\"More\" src=\"News_NASA_Mars_Exploration_Program_files/overlay-arrow.png\"/></div></div><div class=\"list_image\"><img alt=\"On ancient Mars, water carved channels and transported sediments to form fans and deltas within lake basins. \" src=\"News_NASA_Mars_Exploration_Program_files/8387_JezeroCrater-320x240.jpg\"/></div><div class=\"bottom_gradient\"><div><h3>NASA Announces Landing Site for Mars 2020 Rover</h3></div></div></a><div class=\"list_text\"><div class=\"list_date\">November 19, 2018</div><div class=\"content_title\"><a href=\"https://mars.nasa.gov/news/8387/nasa-announces-landing-site-for-mars-2020-rover/\" target=\"_self\">NASA Announces Landing Site for Mars 2020 Rover</a></div><div class=\"article_teaser_body\">After a five-year search, NASA has chosen Jezero Crater as the landing site for its upcoming Mars 2020 rover mission.</div></div></div>,\n",
       " <div class=\"image_and_description_container\"><a href=\"https://mars.nasa.gov/news/8386/nasa-to-host-media-call-on-next-mars-landing-site/\" target=\"_self\"><div class=\"rollover_description\"><div class=\"rollover_description_inner\">NASA\n",
       "  will host a media teleconference at 9 a.m. PST (noon EST) Monday, Nov. \n",
       " 19, to provide details about the Mars 2020 roverâ€™s landing site on the \n",
       " Red Planet.</div><div class=\"overlay_arrow\"><img alt=\"More\" src=\"News_NASA_Mars_Exploration_Program_files/overlay-arrow.png\"/></div></div><div class=\"list_image\"><img alt=\"This view of Mars was assembled from MOC daily global images obtained on May 12, 2003. \" src=\"News_NASA_Mars_Exploration_Program_files/8386_PIA04591-320x240.jpg\"/></div><div class=\"bottom_gradient\"><div><h3>NASA to Host Media Call on Next Mars Landing Site</h3></div></div></a><div class=\"list_text\"><div class=\"list_date\">November 16, 2018</div><div class=\"content_title\"><a href=\"https://mars.nasa.gov/news/8386/nasa-to-host-media-call-on-next-mars-landing-site/\" target=\"_self\">NASA to Host Media Call on Next Mars Landing Site</a></div><div class=\"article_teaser_body\">NASA\n",
       "  will host a media teleconference at 9 a.m. PST (noon EST) Monday, Nov. \n",
       " 19, to provide details about the Mars 2020 roverâ€™s landing site on the \n",
       " Red Planet.</div></div></div>,\n",
       " <div class=\"image_and_description_container\"><a href=\"https://mars.nasa.gov/news/8385/how-nasa-will-know-when-insight-touches-down/\" target=\"_self\"><div class=\"rollover_description\"><div class=\"rollover_description_inner\">On Nov. 26, engineers will look for a combination of signals to determine whether the next spacecraft to Mars lands safely.</div><div class=\"overlay_arrow\"><img alt=\"More\" src=\"News_NASA_Mars_Exploration_Program_files/overlay-arrow.png\"/></div></div><div class=\"list_image\"><img alt=\"This animation depicts the MarCO CubeSats relaying data from NASA's InSight lander as it enters the Martian atmosphere.\" src=\"News_NASA_Mars_Exploration_Program_files/8385_PIA22738-th.jpg\"/></div><div class=\"bottom_gradient\"><div><h3>How NASA Will Know When InSight Touches Down</h3></div></div></a><div class=\"list_text\"><div class=\"list_date\">November 16, 2018</div><div class=\"content_title\"><a href=\"https://mars.nasa.gov/news/8385/how-nasa-will-know-when-insight-touches-down/\" target=\"_self\">How NASA Will Know When InSight Touches Down</a></div><div class=\"article_teaser_body\">On Nov. 26, engineers will look for a combination of signals to determine whether the next spacecraft to Mars lands safely.</div></div></div>,\n",
       " <div class=\"image_and_description_container\"><a href=\"https://mars.nasa.gov/news/8384/nasa-brings-mars-landing-to-viewers-everywhere/\" target=\"_self\"><div class=\"rollover_description\"><div class=\"rollover_description_inner\">NASA's\n",
       "  InSight lander is scheduled to touch down on the Red Planet at \n",
       " approximately noon PST  on Nov. 26, with a new suite of instruments to \n",
       " probe below the Martian surface.</div><div class=\"overlay_arrow\"><img alt=\"More\" src=\"News_NASA_Mars_Exploration_Program_files/overlay-arrow.png\"/></div></div><div class=\"list_image\"><img alt=\"This illustration shows a simulated view of NASA's InSight lander firing retrorockets to slow down as it descends toward the surface of Mars.\" src=\"News_NASA_Mars_Exploration_Program_files/8384_PIA22810_320.jpg\"/></div><div class=\"bottom_gradient\"><div><h3>NASA Brings Mars Landing to Viewers Everywhere</h3></div></div></a><div class=\"list_text\"><div class=\"list_date\">November 13, 2018</div><div class=\"content_title\"><a href=\"https://mars.nasa.gov/news/8384/nasa-brings-mars-landing-to-viewers-everywhere/\" target=\"_self\">NASA Brings Mars Landing to Viewers Everywhere</a></div><div class=\"article_teaser_body\">NASA's\n",
       "  InSight lander is scheduled to touch down on the Red Planet at \n",
       " approximately noon PST  on Nov. 26, with a new suite of instruments to \n",
       " probe below the Martian surface.</div></div></div>,\n",
       " <div class=\"image_and_description_container\"><a href=\"https://mars.nasa.gov/news/8371/curiosity-on-the-move-again/\" target=\"_self\"><div class=\"rollover_description\"><div class=\"rollover_description_inner\">NASA's\n",
       "  Mars Curiosity rover drove about 197 feet over the weekend to a site \n",
       " called Lake Orcadie, pushing its total odometry to over 12 miles.</div><div class=\"overlay_arrow\"><img alt=\"More\" src=\"News_NASA_Mars_Exploration_Program_files/overlay-arrow.png\"/></div></div><div class=\"list_image\"><img alt=\"A self-portrait of NASA's Curiosity rover taken on Sol 2082 (June 15, 2018). A Martian dust storm has reduced sunlight and visibility at the rover's location in Gale Crater.\" src=\"News_NASA_Mars_Exploration_Program_files/8371_PIA22486_320x240.jpg\"/></div><div class=\"bottom_gradient\"><div><h3>Curiosity on the Move Again</h3></div></div></a><div class=\"list_text\"><div class=\"list_date\">November  6, 2018</div><div class=\"content_title\"><a href=\"https://mars.nasa.gov/news/8371/curiosity-on-the-move-again/\" target=\"_self\">Curiosity on the Move Again</a></div><div class=\"article_teaser_body\">NASA's\n",
       "  Mars Curiosity rover drove about 197 feet over the weekend to a site \n",
       " called Lake Orcadie, pushing its total odometry to over 12 miles.</div></div></div>,\n",
       " <div class=\"image_and_description_container\"><a href=\"https://mars.nasa.gov/news/8383/the-mars-insight-landing-site-is-just-plain-perfect/\" target=\"_self\"><div class=\"rollover_description\"><div class=\"rollover_description_inner\">If the InSight landing zone were ice cream, it would be vanilla.</div><div class=\"overlay_arrow\"><img alt=\"More\" src=\"News_NASA_Mars_Exploration_Program_files/overlay-arrow.png\"/></div></div><div class=\"list_image\"><img alt=\"This artistâ€™s concept depicts the smooth, flat ground that dominates InSight's landing ellipse in the Elysium Planitia region of Mars. \" src=\"News_NASA_Mars_Exploration_Program_files/8383_PIA22743-320x240.jpg\"/></div><div class=\"bottom_gradient\"><div><h3>The Mars InSight Landing Site Is Just Plain Perfect</h3></div></div></a><div class=\"list_text\"><div class=\"list_date\">November  5, 2018</div><div class=\"content_title\"><a href=\"https://mars.nasa.gov/news/8383/the-mars-insight-landing-site-is-just-plain-perfect/\" target=\"_self\">The Mars InSight Landing Site Is Just Plain Perfect</a></div><div class=\"article_teaser_body\">If the InSight landing zone were ice cream, it would be vanilla.</div></div></div>,\n",
       " <div class=\"image_and_description_container\"><a href=\"https://mars.nasa.gov/news/8382/five-things-to-know-about-insights-mars-landing/\" target=\"_self\"><div class=\"rollover_description\"><div class=\"rollover_description_inner\">NASA engineers will be holding their breath when their spacecraft heads into Mars' atmosphere on Nov. 26.</div><div class=\"overlay_arrow\"><img alt=\"More\" src=\"News_NASA_Mars_Exploration_Program_files/overlay-arrow.png\"/></div></div><div class=\"list_image\"><img alt=\"This is an illustration showing a simulated view of NASA's InSight lander about to land on the surface of Mars. This view shows the underside of the spacecraft\" src=\"News_NASA_Mars_Exploration_Program_files/8382_22097_PIA22812-320x240.jpg\"/></div><div class=\"bottom_gradient\"><div><h3>Five Things to Know About InSight's Mars Landing</h3></div></div></a><div class=\"list_text\"><div class=\"list_date\">October 31, 2018</div><div class=\"content_title\"><a href=\"https://mars.nasa.gov/news/8382/five-things-to-know-about-insights-mars-landing/\" target=\"_self\">Five Things to Know About InSight's Mars Landing</a></div><div class=\"article_teaser_body\">NASA engineers will be holding their breath when their spacecraft heads into Mars' atmosphere on Nov. 26.</div></div></div>,\n",
       " <div class=\"image_and_description_container\"><a href=\"https://mars.nasa.gov/news/8381/nasa-launches-a-new-podcast-to-mars/\" target=\"_self\"><div class=\"rollover_description\"><div class=\"rollover_description_inner\">NASA's\n",
       "  new eight-episode series 'On a Mission' follows the InSight spacecraft \n",
       " on its journey to Mars and details the extraordinary challenges of \n",
       " landing on the Red Planet.</div><div class=\"overlay_arrow\"><img alt=\"More\" src=\"News_NASA_Mars_Exploration_Program_files/overlay-arrow.png\"/></div></div><div class=\"list_image\"><img alt='A new NASA podcast \"On a Mission\"' src=\"News_NASA_Mars_Exploration_Program_files/8381_On_A_Mission_Podcast_Logo-320x240.jpg\"/></div><div class=\"bottom_gradient\"><div><h3>NASA Launches a New Podcast to Mars</h3></div></div></a><div class=\"list_text\"><div class=\"list_date\">October 29, 2018</div><div class=\"content_title\"><a href=\"https://mars.nasa.gov/news/8381/nasa-launches-a-new-podcast-to-mars/\" target=\"_self\">NASA Launches a New Podcast to Mars</a></div><div class=\"article_teaser_body\">NASA's\n",
       "  new eight-episode series 'On a Mission' follows the InSight spacecraft \n",
       " on its journey to Mars and details the extraordinary challenges of \n",
       " landing on the Red Planet.</div></div></div>,\n",
       " <div class=\"image_and_description_container\"><a href=\"https://mars.nasa.gov/news/8364/update-on-opportunity-rover-recovery-efforts/\" target=\"_self\"><div class=\"rollover_description\"><div class=\"rollover_description_inner\">After\n",
       "  a review of the progress of the listening campaign, NASA will continue \n",
       " its current strategy for attempting to make contact with the Opportunity\n",
       "  rover for the foreseeable future.</div><div class=\"overlay_arrow\"><img alt=\"More\" src=\"News_NASA_Mars_Exploration_Program_files/overlay-arrow.png\"/></div></div><div class=\"list_image\"><img alt=\"This June 2017 view from the Pancam on NASA's Opportunity Mars rover shows the area just above &quot;Perseverance Valley&quot; on a large crater's rim. A broad notch in the crest of the rim, at right, might have been a spillway for a fluid that carved the valley, out of sight on the other side of the rim.\" src=\"News_NASA_Mars_Exploration_Program_files/8364_PIA21723-16bth.jpg\"/></div><div class=\"bottom_gradient\"><div><h3>Update on Opportunity Rover Recovery Efforts</h3></div></div></a><div class=\"list_text\"><div class=\"list_date\">October 29, 2018</div><div class=\"content_title\"><a href=\"https://mars.nasa.gov/news/8364/update-on-opportunity-rover-recovery-efforts/\" target=\"_self\">Update on Opportunity Rover Recovery Efforts</a></div><div class=\"article_teaser_body\">After\n",
       "  a review of the progress of the listening campaign, NASA will continue \n",
       " its current strategy for attempting to make contact with the Opportunity\n",
       "  rover for the foreseeable future.</div></div></div>,\n",
       " <div class=\"image_and_description_container\"><a href=\"https://mars.nasa.gov/news/8380/third-aspire-test-confirms-mars-2020-parachute-a-go/\" target=\"_self\"><div class=\"rollover_description\"><div class=\"rollover_description_inner\">The\n",
       "  supersonic parachute that will handle the heaviest payload yet to the \n",
       " Red Planet â€“ Mars 2020 rover â€“ passes its final sounding rocket test \n",
       " with flying colors.</div><div class=\"overlay_arrow\"><img alt=\"More\" src=\"News_NASA_Mars_Exploration_Program_files/overlay-arrow.png\"/></div></div><div class=\"list_image\"><img alt=\"\" src=\"News_NASA_Mars_Exploration_Program_files/8380_parachute-16-th.jpg\"/></div><div class=\"bottom_gradient\"><div><h3>Third ASPIRE Test Confirms Mars 2020 Parachute a Go</h3></div></div></a><div class=\"list_text\"><div class=\"list_date\">October 26, 2018</div><div class=\"content_title\"><a href=\"https://mars.nasa.gov/news/8380/third-aspire-test-confirms-mars-2020-parachute-a-go/\" target=\"_self\">Third ASPIRE Test Confirms Mars 2020 Parachute a Go</a></div><div class=\"article_teaser_body\">The\n",
       "  supersonic parachute that will handle the heaviest payload yet to the \n",
       " Red Planet â€“ Mars 2020 rover â€“ passes its final sounding rocket test \n",
       " with flying colors.</div></div></div>,\n",
       " <div class=\"image_and_description_container\"><a href=\"https://mars.nasa.gov/news/8379/nasa-to-host-briefing-on-november-mars-insight-landing/\" target=\"_self\"><div class=\"rollover_description\"><div class=\"rollover_description_inner\">A\n",
       "  briefing on NASA's upcoming InSight Mars landing will air on Wed. Oct. \n",
       " 31 at 1:30 p.m. EDT (10:30 a.m. PDT) on NASA TV, the agency's website \n",
       " and NASA InSight Facebook Page.</div><div class=\"overlay_arrow\"><img alt=\"More\" src=\"News_NASA_Mars_Exploration_Program_files/overlay-arrow.png\"/></div></div><div class=\"list_image\"><img alt=\"An artist illustration of the InSight lander on Mars.\" src=\"News_NASA_Mars_Exploration_Program_files/8379_insight-impression-320x240.jpg\"/></div><div class=\"bottom_gradient\"><div><h3>NASA to Host Briefing on November Mars InSight Landing</h3></div></div></a><div class=\"list_text\"><div class=\"list_date\">October 25, 2018</div><div class=\"content_title\"><a href=\"https://mars.nasa.gov/news/8379/nasa-to-host-briefing-on-november-mars-insight-landing/\" target=\"_self\">NASA to Host Briefing on November Mars InSight Landing</a></div><div class=\"article_teaser_body\">A\n",
       "  briefing on NASA's upcoming InSight Mars landing will air on Wed. Oct. \n",
       " 31 at 1:30 p.m. EDT (10:30 a.m. PDT) on NASA TV, the agency's website \n",
       " and NASA InSight Facebook Page.</div></div></div>,\n",
       " <div class=\"image_and_description_container\"><a href=\"https://mars.nasa.gov/news/8378/nasas-insight-will-study-mars-while-standing-still/\" target=\"_self\"><div class=\"rollover_description\"><div class=\"rollover_description_inner\">The lander's unique science can teach us how planets are born.</div><div class=\"overlay_arrow\"><img alt=\"More\" src=\"News_NASA_Mars_Exploration_Program_files/overlay-arrow.png\"/></div></div><div class=\"list_image\"><img alt=\"This artist's concept depicts NASA's InSight lander after it has deployed its instruments on the Martian surface.\" src=\"News_NASA_Mars_Exploration_Program_files/8378_PIA22743-320x240.jpg\"/></div><div class=\"bottom_gradient\"><div><h3>NASA's InSight Will Study Mars While Standing Still</h3></div></div></a><div class=\"list_text\"><div class=\"list_date\">October 24, 2018</div><div class=\"content_title\"><a href=\"https://mars.nasa.gov/news/8378/nasas-insight-will-study-mars-while-standing-still/\" target=\"_self\">NASA's InSight Will Study Mars While Standing Still</a></div><div class=\"article_teaser_body\">The lander's unique science can teach us how planets are born.</div></div></div>,\n",
       " <div class=\"image_and_description_container\"><a href=\"https://mars.nasa.gov/news/8377/nasas-first-image-of-mars-from-a-cubesat/\" target=\"_self\"><div class=\"rollover_description\"><div class=\"rollover_description_inner\">The image was produced by one of the twin briefcase-sized MarCO spacecraft, the first CubeSats to fly to deep space.</div><div class=\"overlay_arrow\"><img alt=\"More\" src=\"News_NASA_Mars_Exploration_Program_files/overlay-arrow.png\"/></div></div><div class=\"list_image\"><img alt=\"One of the twin MarCO CubeSats snapped this image of Mars on Oct. 3 â€“ the first image of the Red Planet ever produced by this class of tiny, low-cost spacecraft.\" src=\"News_NASA_Mars_Exploration_Program_files/8377_PIA22742_320.jpg\"/></div><div class=\"bottom_gradient\"><div><h3>NASA's First Image of Mars from a CubeSat</h3></div></div></a><div class=\"list_text\"><div class=\"list_date\">October 22, 2018</div><div class=\"content_title\"><a href=\"https://mars.nasa.gov/news/8377/nasas-first-image-of-mars-from-a-cubesat/\" target=\"_self\">NASA's First Image of Mars from a CubeSat</a></div><div class=\"article_teaser_body\">The image was produced by one of the twin briefcase-sized MarCO spacecraft, the first CubeSats to fly to deep space.</div></div></div>,\n",
       " <div class=\"image_and_description_container\"><a href=\"https://mars.nasa.gov/news/8375/the-claw-game-on-mars-nasa-insight-plays-to-win/\" target=\"_self\"><div class=\"rollover_description\"><div class=\"rollover_description_inner\">NASA's\n",
       "  InSight lander will be the first mission to use a robotic arm to grasp \n",
       " instruments from the spacecraft and place them on the surface of another\n",
       "  planet. </div><div class=\"overlay_arrow\"><img alt=\"More\" src=\"News_NASA_Mars_Exploration_Program_files/overlay-arrow.png\"/></div></div><div class=\"list_image\"><img alt=\"NASAâ€™s InSight mission tests an engineering version of the spacecraftâ€™s robotic arm in a Mars-like environment at NASAâ€™s Jet Propulsion Laboratory. \" src=\"News_NASA_Mars_Exploration_Program_files/8375_PIA22806-320.jpg\"/></div><div class=\"bottom_gradient\"><div><h3>The 'Claw Game' on Mars: NASA InSight Plays to Win</h3></div></div></a><div class=\"list_text\"><div class=\"list_date\">October 16, 2018</div><div class=\"content_title\"><a href=\"https://mars.nasa.gov/news/8375/the-claw-game-on-mars-nasa-insight-plays-to-win/\" target=\"_self\">The 'Claw Game' on Mars: NASA InSight Plays to Win</a></div><div class=\"article_teaser_body\">NASA's\n",
       "  InSight lander will be the first mission to use a robotic arm to grasp \n",
       " instruments from the spacecraft and place them on the surface of another\n",
       "  planet. </div></div></div>,\n",
       " <div class=\"image_and_description_container\"><a href=\"https://mars.nasa.gov/news/8376/scientists-to-debate-landing-site-for-next-mars-rover/\" target=\"_self\"><div class=\"rollover_description\"><div class=\"rollover_description_inner\">Hundreds\n",
       "  of scientists and Mars-exploration enthusiasts gather this week to \n",
       " present, discuss and deliberate the future landing site for NASA's next \n",
       " Red Planet. </div><div class=\"overlay_arrow\"><img alt=\"More\" src=\"News_NASA_Mars_Exploration_Program_files/overlay-arrow.png\"/></div></div><div class=\"list_image\"><img alt=\"This artist's rendition depicts NASA's Mars 2020 rover studying a Mars rock outrcrop.\" src=\"News_NASA_Mars_Exploration_Program_files/8376_PIA22105-320x240.jpg\"/></div><div class=\"bottom_gradient\"><div><h3>Scientists to Debate Landing Site for Next Mars Rover</h3></div></div></a><div class=\"list_text\"><div class=\"list_date\">October 15, 2018</div><div class=\"content_title\"><a href=\"https://mars.nasa.gov/news/8376/scientists-to-debate-landing-site-for-next-mars-rover/\" target=\"_self\">Scientists to Debate Landing Site for Next Mars Rover</a></div><div class=\"article_teaser_body\">Hundreds\n",
       "  of scientists and Mars-exploration enthusiasts gather this week to \n",
       " present, discuss and deliberate the future landing site for NASA's next \n",
       " Red Planet. </div></div></div>,\n",
       " <div class=\"image_and_description_container\"><a href=\"https://mars.nasa.gov/news/8374/mars-virtual-reality-software-wins-nasa-award/\" target=\"_self\"><div class=\"rollover_description\"><div class=\"rollover_description_inner\">A\n",
       "  mixed-reality software that allows scientists and engineers to \n",
       " virtually walk on Mars has received NASA's 2018 Software of the Year \n",
       " Award.</div><div class=\"overlay_arrow\"><img alt=\"More\" src=\"News_NASA_Mars_Exploration_Program_files/overlay-arrow.png\"/></div></div><div class=\"list_image\"><img alt=\"This is an image of Apollo 11 astronaut Buzz Aldrin and Erisa Hines of NASA's Jet Propulsion Laboratory trying out the Microsoft HoloLens mixed reality headset during a preview of &quot;Destination: Mars&quot; at Kennedy Space Center visitor complex in Florida. \" src=\"News_NASA_Mars_Exploration_Program_files/8374_onsight20181002-16_320x240.jpg\"/></div><div class=\"bottom_gradient\"><div><h3>Mars Virtual Reality Software Wins NASA Award</h3></div></div></a><div class=\"list_text\"><div class=\"list_date\">October 10, 2018</div><div class=\"content_title\"><a href=\"https://mars.nasa.gov/news/8374/mars-virtual-reality-software-wins-nasa-award/\" target=\"_self\">Mars Virtual Reality Software Wins NASA Award</a></div><div class=\"article_teaser_body\">A\n",
       "  mixed-reality software that allows scientists and engineers to \n",
       " virtually walk on Mars has received NASA's 2018 Software of the Year \n",
       " Award.</div></div></div>,\n",
       " <div class=\"image_and_description_container\"><a href=\"https://mars.nasa.gov/news/8373/painting-cars-for-mars/\" target=\"_self\"><div class=\"rollover_description\"><div class=\"rollover_description_inner\">What\n",
       "  does NASA do to get a rover ready for Mars? JPL's paint shop does a \n",
       " thousand different paint jobs a year. And while every piece of \n",
       " spacecraft that comes through the shop is important, one headed for the \n",
       " Red Planet adds a little extra oomph.</div><div class=\"overlay_arrow\"><img alt=\"More\" src=\"News_NASA_Mars_Exploration_Program_files/overlay-arrow.png\"/></div></div><div class=\"list_image\"><img alt=\"\" src=\"News_NASA_Mars_Exploration_Program_files/8373_mars20181004-320.jpg\"/></div><div class=\"bottom_gradient\"><div><h3>Painting Cars for Mars</h3></div></div></a><div class=\"list_text\"><div class=\"list_date\">October  9, 2018</div><div class=\"content_title\"><a href=\"https://mars.nasa.gov/news/8373/painting-cars-for-mars/\" target=\"_self\">Painting Cars for Mars</a></div><div class=\"article_teaser_body\">What\n",
       "  does NASA do to get a rover ready for Mars? JPL's paint shop does a \n",
       " thousand different paint jobs a year. And while every piece of \n",
       " spacecraft that comes through the shop is important, one headed for the \n",
       " Red Planet adds a little extra oomph.</div></div></div>,\n",
       " <div class=\"image_and_description_container\"><a href=\"https://mars.nasa.gov/news/8370/opportunity-emerges-in-a-dusty-picture/\" target=\"_self\"><div class=\"rollover_description\"><div class=\"rollover_description_inner\">NASA still hasn't heard from the Opportunity rover, but at least the agency can see it again.</div><div class=\"overlay_arrow\"><img alt=\"More\" src=\"News_NASA_Mars_Exploration_Program_files/overlay-arrow.png\"/></div></div><div class=\"list_image\"><img alt=\"\" src=\"News_NASA_Mars_Exploration_Program_files/8370_Oppy-box-320x260.jpg\"/></div><div class=\"bottom_gradient\"><div><h3>Opportunity Emerges in a Dusty Picture</h3></div></div></a><div class=\"list_text\"><div class=\"list_date\">September 25, 2018</div><div class=\"content_title\"><a href=\"https://mars.nasa.gov/news/8370/opportunity-emerges-in-a-dusty-picture/\" target=\"_self\">Opportunity Emerges in a Dusty Picture</a></div><div class=\"article_teaser_body\">NASA still hasn't heard from the Opportunity rover, but at least the agency can see it again.</div></div></div>,\n",
       " <div class=\"image_and_description_container\"><a href=\"https://mars.nasa.gov/news/8369/nasa-seeking-partner-in-contest-to-name-next-mars-rover/\" target=\"_self\"><div class=\"rollover_description\"><div class=\"rollover_description_inner\">NASA\n",
       "  has a class assignment for corporations, nonprofits and educational \n",
       " organizations involved in science and space exploration: partner with \n",
       " the agency to inspire future engineers and scientists by sponsoring a \n",
       " contest to name the next rover to venture to the Red Planet.</div><div class=\"overlay_arrow\"><img alt=\"More\" src=\"News_NASA_Mars_Exploration_Program_files/overlay-arrow.png\"/></div></div><div class=\"list_image\"><img alt=\"This artist's rendition depicts NASA's Mars 2020 rover studying its surroundings. Mars 2020 is targeted for launch in July or August 2020 from the Cape Canaveral Air Force Station in Florida.\" src=\"News_NASA_Mars_Exploration_Program_files/8369_PIA22109-16_320x240.jpg\"/></div><div class=\"bottom_gradient\"><div><h3>NASA Seeking Partner in Contest to Name Next Mars Rover</h3></div></div></a><div class=\"list_text\"><div class=\"list_date\">September 21, 2018</div><div class=\"content_title\"><a href=\"https://mars.nasa.gov/news/8369/nasa-seeking-partner-in-contest-to-name-next-mars-rover/\" target=\"_self\">NASA Seeking Partner in Contest to Name Next Mars Rover</a></div><div class=\"article_teaser_body\">NASA\n",
       "  has a class assignment for corporations, nonprofits and educational \n",
       " organizations involved in science and space exploration: partner with \n",
       " the agency to inspire future engineers and scientists by sponsoring a \n",
       " contest to name the next rover to venture to the Red Planet.</div></div></div>,\n",
       " <div class=\"image_and_description_container\"><a href=\"https://mars.nasa.gov/news/8368/nasas-maven-selfie-marks-four-years-in-orbit-at-mars/\" target=\"_self\"><div class=\"rollover_description\"><div class=\"rollover_description_inner\">NASAâ€™s MAVEN spacecraft celebrates four years in Mars orbit with a selfie.</div><div class=\"overlay_arrow\"><img alt=\"More\" src=\"News_NASA_Mars_Exploration_Program_files/overlay-arrow.png\"/></div></div><div class=\"list_image\"><img alt=\"This is an unannotated composite selfie of the MAVEN spacecraft.\" src=\"News_NASA_Mars_Exploration_Program_files/8368_selfie_composite_unannotated-14sep_320x240.jpg\"/></div><div class=\"bottom_gradient\"><div><h3>NASA's MAVEN Selfie Marks Four Years in Orbit at Mars</h3></div></div></a><div class=\"list_text\"><div class=\"list_date\">September 21, 2018</div><div class=\"content_title\"><a href=\"https://mars.nasa.gov/news/8368/nasas-maven-selfie-marks-four-years-in-orbit-at-mars/\" target=\"_self\">NASA's MAVEN Selfie Marks Four Years in Orbit at Mars</a></div><div class=\"article_teaser_body\">NASAâ€™s MAVEN spacecraft celebrates four years in Mars orbit with a selfie.</div></div></div>,\n",
       " <div class=\"image_and_description_container\"><a href=\"https://mars.nasa.gov/news/8367/marco-makes-space-for-small-explorers/\" target=\"_self\"><div class=\"rollover_description\"><div class=\"rollover_description_inner\">A pair of NASA CubeSats flying to Mars are opening a new frontier for small spacecraft.</div><div class=\"overlay_arrow\"><img alt=\"More\" src=\"News_NASA_Mars_Exploration_Program_files/overlay-arrow.png\"/></div></div><div class=\"list_image\"><img alt=\"Engineer Joel Steinkraus uses sunlight to test the solar arrays on one of the Mars Cube One (MarCO) spacecraft.\" src=\"News_NASA_Mars_Exploration_Program_files/8367_PIA22317_320x240.jpg\"/></div><div class=\"bottom_gradient\"><div><h3>MarCO Makes Space for Small Explorers</h3></div></div></a><div class=\"list_text\"><div class=\"list_date\">September 13, 2018</div><div class=\"content_title\"><a href=\"https://mars.nasa.gov/news/8367/marco-makes-space-for-small-explorers/\" target=\"_self\">MarCO Makes Space for Small Explorers</a></div><div class=\"article_teaser_body\">A pair of NASA CubeSats flying to Mars are opening a new frontier for small spacecraft.</div></div></div>,\n",
       " <div class=\"image_and_description_container\"><a href=\"https://mars.nasa.gov/news/8365/curiosity-surveys-a-mystery-under-dusty-skies/\" target=\"_self\"><div class=\"rollover_description\"><div class=\"rollover_description_inner\">NASA's\n",
       "  Curiosity rover surveyed its surroundings on Mars, producing a \n",
       " 360-degree panorama of its current location on Vera Rubin Ridge.</div><div class=\"overlay_arrow\"><img alt=\"More\" src=\"News_NASA_Mars_Exploration_Program_files/overlay-arrow.png\"/></div></div><div class=\"list_image\"><img alt=\"NASA's Curiosity rover surveyed its surroundings on Mars, producing a 360-degree panorama of its current location on Vera Rubin Ridge.\" src=\"News_NASA_Mars_Exploration_Program_files/8365_curiosity20180830-th.jpg\"/></div><div class=\"bottom_gradient\"><div><h3>Curiosity Surveys a Mystery Under Dusty Skies</h3></div></div></a><div class=\"list_text\"><div class=\"list_date\">September  6, 2018</div><div class=\"content_title\"><a href=\"https://mars.nasa.gov/news/8365/curiosity-surveys-a-mystery-under-dusty-skies/\" target=\"_self\">Curiosity Surveys a Mystery Under Dusty Skies</a></div><div class=\"article_teaser_body\">NASA's\n",
       "  Curiosity rover surveyed its surroundings on Mars, producing a \n",
       " 360-degree panorama of its current location on Vera Rubin Ridge.</div></div></div>,\n",
       " <div class=\"image_and_description_container\"><a href=\"https://mars.nasa.gov/news/8363/nasas-insight-has-a-thermometer-for-mars/\" target=\"_self\"><div class=\"rollover_description\"><div class=\"rollover_description_inner\">The mission's heat probe could reveal how the planet's towering volcanoes formed.</div><div class=\"overlay_arrow\"><img alt=\"More\" src=\"News_NASA_Mars_Exploration_Program_files/overlay-arrow.png\"/></div></div><div class=\"list_image\"><img alt=\"\" src=\"News_NASA_Mars_Exploration_Program_files/8363_marsmountain20180828-320.jpg\"/></div><div class=\"bottom_gradient\"><div><h3>NASA's InSight Has a Thermometer for Mars</h3></div></div></a><div class=\"list_text\"><div class=\"list_date\">August 28, 2018</div><div class=\"content_title\"><a href=\"https://mars.nasa.gov/news/8363/nasas-insight-has-a-thermometer-for-mars/\" target=\"_self\">NASA's InSight Has a Thermometer for Mars</a></div><div class=\"article_teaser_body\">The mission's heat probe could reveal how the planet's towering volcanoes formed.</div></div></div>,\n",
       " <div class=\"image_and_description_container\"><a href=\"https://mars.nasa.gov/news/8362/digital-creators-apply-for-nasa-mars-landing-event/\" target=\"_self\"><div class=\"rollover_description\"><div class=\"rollover_description_inner\">Up\n",
       "  to 30 multimedia participants will be selected for a special two-day \n",
       " event at JPL culminating in the InSight spacecraft's landing on Mars. \n",
       " Apply by Sept. 3.</div><div class=\"overlay_arrow\"><img alt=\"More\" src=\"News_NASA_Mars_Exploration_Program_files/overlay-arrow.png\"/></div></div><div class=\"list_image\"><img alt=\"Stu Spath of Lockheed Martin Space discusses NASA's InSight mission to Mars during a prelaunch briefing covered by NASA Social participants on Thursday, May 3, 2018, at Vandenberg Air Force Base in California. \" src=\"News_NASA_Mars_Exploration_Program_files/8362_insight_nasa_social-320x240.jpg\"/></div><div class=\"bottom_gradient\"><div><h3>Digital Creators: Apply for NASA Mars Landing Event</h3></div></div></a><div class=\"list_text\"><div class=\"list_date\">August 24, 2018</div><div class=\"content_title\"><a href=\"https://mars.nasa.gov/news/8362/digital-creators-apply-for-nasa-mars-landing-event/\" target=\"_self\">Digital Creators: Apply for NASA Mars Landing Event</a></div><div class=\"article_teaser_body\">Up\n",
       "  to 30 multimedia participants will be selected for a special two-day \n",
       " event at JPL culminating in the InSight spacecraft's landing on Mars. \n",
       " Apply by Sept. 3.</div></div></div>,\n",
       " <div class=\"image_and_description_container\"><a href=\"https://mars.nasa.gov/news/8361/nasas-insight-passes-halfway-to-mars-instruments-check-in/\" target=\"_self\"><div class=\"rollover_description\"><div class=\"rollover_description_inner\">NASA's\n",
       "  InSight spacecraft, en route to a Nov. 26 landing on Mars, passed the \n",
       " halfway mark on Aug. 6. All of its instruments have been tested and are \n",
       " working well.</div><div class=\"overlay_arrow\"><img alt=\"More\" src=\"News_NASA_Mars_Exploration_Program_files/overlay-arrow.png\"/></div></div><div class=\"list_image\"><img alt=\"This artist's concept shows the InSight spacecraft, encapsulated in its aeroshell, as it cruises to Mars.\" src=\"News_NASA_Mars_Exploration_Program_files/8361_insight_cruise_starfield-320.jpg\"/></div><div class=\"bottom_gradient\"><div><h3>NASA's InSight Passes Halfway to Mars, Instruments Check In</h3></div></div></a><div class=\"list_text\"><div class=\"list_date\">August 20, 2018</div><div class=\"content_title\"><a href=\"https://mars.nasa.gov/news/8361/nasas-insight-passes-halfway-to-mars-instruments-check-in/\" target=\"_self\">NASA's InSight Passes Halfway to Mars, Instruments Check In</a></div><div class=\"article_teaser_body\">NASA's\n",
       "  InSight spacecraft, en route to a Nov. 26 landing on Mars, passed the \n",
       " halfway mark on Aug. 6. All of its instruments have been tested and are \n",
       " working well.</div></div></div>,\n",
       " <div class=\"image_and_description_container\"><a href=\"https://mars.nasa.gov/news/8360/six-things-about-opportunitys-recovery-efforts/\" target=\"_self\"><div class=\"rollover_description\"><div class=\"rollover_description_inner\">The global dust storm on Mars could soon let in enough sunlight for the Opportunity rover to recharge.</div><div class=\"overlay_arrow\"><img alt=\"More\" src=\"News_NASA_Mars_Exploration_Program_files/overlay-arrow.png\"/></div></div><div class=\"list_image\"><img alt=\"\" src=\"News_NASA_Mars_Exploration_Program_files/8360_8354_Mars_Dust_Storm_PIA22487_thumb.jpg\"/></div><div class=\"bottom_gradient\"><div><h3>Six Things About Opportunity's Recovery Efforts</h3></div></div></a><div class=\"list_text\"><div class=\"list_date\">August 16, 2018</div><div class=\"content_title\"><a href=\"https://mars.nasa.gov/news/8360/six-things-about-opportunitys-recovery-efforts/\" target=\"_self\">Six Things About Opportunity's Recovery Efforts</a></div><div class=\"article_teaser_body\">The global dust storm on Mars could soon let in enough sunlight for the Opportunity rover to recharge.</div></div></div>,\n",
       " <div class=\"image_and_description_container\"><a href=\"https://mars.nasa.gov/news/8359/meet-the-people-behind-nasas-insight-mars-lander/\" target=\"_self\"><div class=\"rollover_description\"><div class=\"rollover_description_inner\">A series of NASA videos highlight scientists and engineers leading the next mission to Mars.</div><div class=\"overlay_arrow\"><img alt=\"More\" src=\"News_NASA_Mars_Exploration_Program_files/overlay-arrow.png\"/></div></div><div class=\"list_image\"><img alt=\"L-R: Troy Hudson, Ravi Prakash and Marleen Sundgaard as they appear in a new video series profiling the scientists and engineers behind NASA's InSight spacecraft. Credit: NASA 360\" src=\"News_NASA_Mars_Exploration_Program_files/8359_people20180802-th.jpg\"/></div><div class=\"bottom_gradient\"><div><h3>Meet the People Behind NASA's InSight Mars Lander</h3></div></div></a><div class=\"list_text\"><div class=\"list_date\">August  2, 2018</div><div class=\"content_title\"><a href=\"https://mars.nasa.gov/news/8359/meet-the-people-behind-nasas-insight-mars-lander/\" target=\"_self\">Meet the People Behind NASA's InSight Mars Lander</a></div><div class=\"article_teaser_body\">A series of NASA videos highlight scientists and engineers leading the next mission to Mars.</div></div></div>,\n",
       " <div class=\"image_and_description_container\"><a href=\"https://mars.nasa.gov/news/8358/mars-terraforming-not-possible-using-present-day-technology/\" target=\"_self\"><div class=\"rollover_description\"><div class=\"rollover_description_inner\">Transforming\n",
       "  the inhospitable Martian environment into a place astronauts could \n",
       " explore without life support is not possible without technology well \n",
       " beyond todayâ€™s capabilities.</div><div class=\"overlay_arrow\"><img alt=\"More\" src=\"News_NASA_Mars_Exploration_Program_files/overlay-arrow.png\"/></div></div><div class=\"list_image\"><img alt=\"This is an artist's model of an early Mars - billions of years ago - which may have had oceans and a thicker atmosphere. It was created by filling Mars' lower altitudes with water and adding cloud cover.\" src=\"News_NASA_Mars_Exploration_Program_files/8358_maven20180730-320x240.jpg\"/></div><div class=\"bottom_gradient\"><div><h3>Mars Terraforming Not Possible Using Present-Day Technology</h3></div></div></a><div class=\"list_text\"><div class=\"list_date\">July 30, 2018</div><div class=\"content_title\"><a href=\"https://mars.nasa.gov/news/8358/mars-terraforming-not-possible-using-present-day-technology/\" target=\"_self\">Mars Terraforming Not Possible Using Present-Day Technology</a></div><div class=\"article_teaser_body\">Transforming\n",
       "  the inhospitable Martian environment into a place astronauts could \n",
       " explore without life support is not possible without technology well \n",
       " beyond todayâ€™s capabilities.</div></div></div>,\n",
       " <div class=\"image_and_description_container\"><a href=\"https://mars.nasa.gov/news/8348/opportunity-hunkers-down-during-dust-storm/\" target=\"_self\"><div class=\"rollover_description\"><div class=\"rollover_description_inner\">It's\n",
       "  the beginning of the end for the planet-encircling dust storm on Mars. \n",
       " But it could still be weeks, or even months, before skies are clear \n",
       " enough for NASA's Opportunity rover to recharge its batteries and phone \n",
       " home. </div><div class=\"overlay_arrow\"><img alt=\"More\" src=\"News_NASA_Mars_Exploration_Program_files/overlay-arrow.png\"/></div></div><div class=\"list_image\"><img alt=\"This series of images shows simulated views of a darkening Martian sky blotting out the Sun from NASAâ€™s Opportunity roverâ€™s point of view, with the right side simulating Opportunityâ€™s current view in the global dust storm (June 2018). \" src=\"News_NASA_Mars_Exploration_Program_files/8348_PIA22521-320.jpg\"/></div><div class=\"bottom_gradient\"><div><h3>Opportunity Hunkers Down During Dust Storm</h3></div></div></a><div class=\"list_text\"><div class=\"list_date\">July 26, 2018</div><div class=\"content_title\"><a href=\"https://mars.nasa.gov/news/8348/opportunity-hunkers-down-during-dust-storm/\" target=\"_self\">Opportunity Hunkers Down During Dust Storm</a></div><div class=\"article_teaser_body\">It's\n",
       "  the beginning of the end for the planet-encircling dust storm on Mars. \n",
       " But it could still be weeks, or even months, before skies are clear \n",
       " enough for NASA's Opportunity rover to recharge its batteries and phone \n",
       " home. </div></div></div>,\n",
       " <div class=\"image_and_description_container\"><a href=\"https://mars.nasa.gov/news/8357/nasa-statement-on-possible-subsurface-lake-near-martian-south-pole/\" target=\"_self\"><div class=\"rollover_description\"><div class=\"rollover_description_inner\">A new paper suggests that liquid water may be sitting under a layer of ice at Mars' south pole.</div><div class=\"overlay_arrow\"><img alt=\"More\" src=\"News_NASA_Mars_Exploration_Program_files/overlay-arrow.png\"/></div></div><div class=\"list_image\"><img alt=\"A new paper suggests that liquid water may be sitting under a layer of ice at Mars' south pole.\" src=\"News_NASA_Mars_Exploration_Program_files/8357_Screen-Shot-2018-07-25-at-4.jpg\"/></div><div class=\"bottom_gradient\"><div><h3>NASA Statement on Possible Subsurface Lake near Martian South Pole</h3></div></div></a><div class=\"list_text\"><div class=\"list_date\">July 25, 2018</div><div class=\"content_title\"><a href=\"https://mars.nasa.gov/news/8357/nasa-statement-on-possible-subsurface-lake-near-martian-south-pole/\" target=\"_self\">NASA Statement on Possible Subsurface Lake near Martian South Pole</a></div><div class=\"article_teaser_body\">A new paper suggests that liquid water may be sitting under a layer of ice at Mars' south pole.</div></div></div>,\n",
       " <div class=\"image_and_description_container\"><a href=\"https://mars.nasa.gov/news/8356/jpls-martians-are-coming-to-griffith-observatory/\" target=\"_self\"><div class=\"rollover_description\"><div class=\"rollover_description_inner\">On\n",
       "  July 30, when Mars and Earth are closer than they've been since 2003, \n",
       " JPL scientists and engineers will be at a free public event at Griffith \n",
       " Observatory in Los Angeles.</div><div class=\"overlay_arrow\"><img alt=\"More\" src=\"News_NASA_Mars_Exploration_Program_files/overlay-arrow.png\"/></div></div><div class=\"list_image\"><img alt=\"Griffith Observatory in Los Angeles.\" src=\"News_NASA_Mars_Exploration_Program_files/8356_21969_griffith_observatory_mars_320.jpg\"/></div><div class=\"bottom_gradient\"><div><h3>JPL's 'Martians' Are Coming to Griffith Observatory</h3></div></div></a><div class=\"list_text\"><div class=\"list_date\">July 25, 2018</div><div class=\"content_title\"><a href=\"https://mars.nasa.gov/news/8356/jpls-martians-are-coming-to-griffith-observatory/\" target=\"_self\">JPL's 'Martians' Are Coming to Griffith Observatory</a></div><div class=\"article_teaser_body\">On\n",
       "  July 30, when Mars and Earth are closer than they've been since 2003, \n",
       " JPL scientists and engineers will be at a free public event at Griffith \n",
       " Observatory in Los Angeles.</div></div></div>,\n",
       " <div class=\"image_and_description_container\"><a href=\"https://mars.nasa.gov/news/8355/nasas-maven-spacecraft-finds-that-stolen-electrons-enable-unusual-aurora-on-mars/\" target=\"_self\"><div class=\"rollover_description\"><div class=\"rollover_description_inner\">Auroras appear on Earth as ghostly displays of colorful light in the night sky, usually near the poles.</div><div class=\"overlay_arrow\"><img alt=\"More\" src=\"News_NASA_Mars_Exploration_Program_files/overlay-arrow.png\"/></div></div><div class=\"list_image\"><img alt=\"Animation of Proton Aurora at Mars\" src=\"News_NASA_Mars_Exploration_Program_files/8355_marsprotonauroramovie-320x240.gif\"/></div><div class=\"bottom_gradient\"><div><h3>NASA's MAVEN Spacecraft Finds That 'Stolen' Electrons Enable Unusual Aurora on Mars</h3></div></div></a><div class=\"list_text\"><div class=\"list_date\">July 23, 2018</div><div class=\"content_title\"><a href=\"https://mars.nasa.gov/news/8355/nasas-maven-spacecraft-finds-that-stolen-electrons-enable-unusual-aurora-on-mars/\" target=\"_self\">NASA's MAVEN Spacecraft Finds That 'Stolen' Electrons Enable Unusual Aurora on Mars</a></div><div class=\"article_teaser_body\">Auroras appear on Earth as ghostly displays of colorful light in the night sky, usually near the poles.</div></div></div>,\n",
       " <div class=\"image_and_description_container\"><a href=\"https://mars.nasa.gov/news/8354/storm-chasers-on-mars-searching-for-dusty-secrets/\" target=\"_self\"><div class=\"rollover_description\"><div class=\"rollover_description_inner\">Scientists with NASA's Mars orbiters have been waiting years for an event like the current Mars global dust storm.</div><div class=\"overlay_arrow\"><img alt=\"More\" src=\"News_NASA_Mars_Exploration_Program_files/overlay-arrow.png\"/></div></div><div class=\"list_image\"><img alt=\"\" src=\"News_NASA_Mars_Exploration_Program_files/8354_Mars_Dust_Storm_PIA22487_thumb.jpg\"/></div><div class=\"bottom_gradient\"><div><h3>'Storm Chasers' on Mars Searching for Dusty Secrets</h3></div></div></a><div class=\"list_text\"><div class=\"list_date\">July 19, 2018</div><div class=\"content_title\"><a href=\"https://mars.nasa.gov/news/8354/storm-chasers-on-mars-searching-for-dusty-secrets/\" target=\"_self\">'Storm Chasers' on Mars Searching for Dusty Secrets</a></div><div class=\"article_teaser_body\">Scientists with NASA's Mars orbiters have been waiting years for an event like the current Mars global dust storm.</div></div></div>,\n",
       " <div class=\"image_and_description_container\"><a href=\"https://mars.nasa.gov/news/8353/nasa-mars-mission-adds-southern-california-dates/\" target=\"_self\"><div class=\"rollover_description\"><div class=\"rollover_description_inner\">Looking\n",
       "  for summer fun? Southern California families have their choice of the \n",
       " beach, movies, museums -- and even NASA's next mission to Mars.</div><div class=\"overlay_arrow\"><img alt=\"More\" src=\"News_NASA_Mars_Exploration_Program_files/overlay-arrow.png\"/></div></div><div class=\"list_image\"><img alt=\"The Mars InSight Roadshow van at San Francisco's Exploratorium in April 2018. The Roadshow van will stop at different California venues to share public exhibits and lectures about NASA's InSight mission. \" src=\"News_NASA_Mars_Exploration_Program_files/8353_list_image.jpg\"/></div><div class=\"bottom_gradient\"><div><h3>NASA Mars Mission Adds Southern California Dates</h3></div></div></a><div class=\"list_text\"><div class=\"list_date\">June 26, 2018</div><div class=\"content_title\"><a href=\"https://mars.nasa.gov/news/8353/nasa-mars-mission-adds-southern-california-dates/\" target=\"_self\">NASA Mars Mission Adds Southern California Dates</a></div><div class=\"article_teaser_body\">Looking\n",
       "  for summer fun? Southern California families have their choice of the \n",
       " beach, movies, museums -- and even NASA's next mission to Mars.</div></div></div>,\n",
       " <div class=\"image_and_description_container\"><a href=\"https://mars.nasa.gov/news/8351/curiosity-captures-photos-of-thickening-dust/\" target=\"_self\"><div class=\"rollover_description\"><div class=\"rollover_description_inner\">A storm of tiny dust particles has engulfed much of Mars over the last two weeks.</div><div class=\"overlay_arrow\"><img alt=\"More\" src=\"News_NASA_Mars_Exploration_Program_files/overlay-arrow.png\"/></div></div><div class=\"list_image\"><img alt=\"A self-portrait by NASA's Curiosity rover taken on Sol 2082 (June 15, 2018). A Martian dust storm has reduced sunlight and visibility at the rover's location in Gale Crater. \" src=\"News_NASA_Mars_Exploration_Program_files/8351_PIA22486-320.jpg\"/></div><div class=\"bottom_gradient\"><div><h3>Curiosity Captures Photos of Thickening Dust</h3></div></div></a><div class=\"list_text\"><div class=\"list_date\">June 20, 2018</div><div class=\"content_title\"><a href=\"https://mars.nasa.gov/news/8351/curiosity-captures-photos-of-thickening-dust/\" target=\"_self\">Curiosity Captures Photos of Thickening Dust</a></div><div class=\"article_teaser_body\">A storm of tiny dust particles has engulfed much of Mars over the last two weeks.</div></div></div>,\n",
       " <div class=\"image_and_description_container\"><a href=\"https://mars.nasa.gov/news/8350/nasa-encounters-the-perfect-storm-for-science/\" target=\"_self\"><div class=\"rollover_description\"><div class=\"rollover_description_inner\">One of the most intense Martian dust storms ever observed is being studied by a record number of NASA spacecraft.</div><div class=\"overlay_arrow\"><img alt=\"More\" src=\"News_NASA_Mars_Exploration_Program_files/overlay-arrow.png\"/></div></div><div class=\"list_image\"><img alt=\"This set of images from NASAâ€™s Mars Reconnaissance Orbiter shows a fierce dust storm is kicking up on Mars, with rovers on the surface indicated as icons.\" src=\"News_NASA_Mars_Exploration_Program_files/8350_marci-dgm-v04-for-home-page-5-br.gif\"/></div><div class=\"bottom_gradient\"><div><h3>NASA Encounters the Perfect Storm for Science</h3></div></div></a><div class=\"list_text\"><div class=\"list_date\">June 13, 2018</div><div class=\"content_title\"><a href=\"https://mars.nasa.gov/news/8350/nasa-encounters-the-perfect-storm-for-science/\" target=\"_self\">NASA Encounters the Perfect Storm for Science</a></div><div class=\"article_teaser_body\">One of the most intense Martian dust storms ever observed is being studied by a record number of NASA spacecraft.</div></div></div>,\n",
       " <div class=\"image_and_description_container\"><a href=\"https://mars.nasa.gov/news/8349/media-telecon-about-mars-dust-storm-opportunity/\" target=\"_self\"><div class=\"rollover_description\"><div class=\"rollover_description_inner\">NASA\n",
       "  will host a media telecon on Wednesday, June 13, about a massive \n",
       " Martian dust storm affecting the Opportunity rover, and how various \n",
       " missions can obtain unique science.</div><div class=\"overlay_arrow\"><img alt=\"More\" src=\"News_NASA_Mars_Exploration_Program_files/overlay-arrow.png\"/></div></div><div class=\"list_image\"><img alt=\"Mars, as seen by Mars Global Surveyor in 2003.\" src=\"News_NASA_Mars_Exploration_Program_files/8349_PIA04591-br.jpg\"/></div><div class=\"bottom_gradient\"><div><h3>Media Telecon About Mars Dust Storm, Opportunity</h3></div></div></a><div class=\"list_text\"><div class=\"list_date\">June 12, 2018</div><div class=\"content_title\"><a href=\"https://mars.nasa.gov/news/8349/media-telecon-about-mars-dust-storm-opportunity/\" target=\"_self\">Media Telecon About Mars Dust Storm, Opportunity</a></div><div class=\"article_teaser_body\">NASA\n",
       "  will host a media telecon on Wednesday, June 13, about a massive \n",
       " Martian dust storm affecting the Opportunity rover, and how various \n",
       " missions can obtain unique science.</div></div></div>,\n",
       " <div class=\"image_and_description_container\">\n",
       " <a href=\"https://mars.nasa.gov/news/8325/nasa-is-ready-to-study-the-heart-of-mars/\">\n",
       " <div class=\"rollover_description\">\n",
       " <div class=\"rollover_description_inner\">\n",
       " NASA is about to go on a journey to study the center of Mars.\n",
       " </div>\n",
       " <div class=\"overlay_arrow\">\n",
       " <img alt=\"More\" src=\"News_NASA_Mars_Exploration_Program_files/overlay-arrow.png\"/>\n",
       " </div>\n",
       " </div>\n",
       " <img alt=\"NASA is Ready to Study the Heart of Mars\" class=\"img-lazy\" data-lazy=\"/system/news_items/list_view_images/8325_insight20180329b_320.jpg\" src=\"News_NASA_Mars_Exploration_Program_files/loading_320x240.png\"/>\n",
       " </a>\n",
       " </div>,\n",
       " <div class=\"image_and_description_container\">\n",
       " <a href=\"https://mars.nasa.gov/news/8322/nasa-briefing-on-first-mission-to-study-mars-interior/\">\n",
       " <div class=\"rollover_description\">\n",
       " <div class=\"rollover_description_inner\">\n",
       " NASAâ€™s next mission to Mars will be the topic of a media briefing \n",
       " Thursday, March 29, at JPL. The briefing will air live on NASA \n",
       " Television and the agencyâ€™s website.\n",
       " </div>\n",
       " <div class=\"overlay_arrow\">\n",
       " <img alt=\"More\" src=\"News_NASA_Mars_Exploration_Program_files/overlay-arrow.png\"/>\n",
       " </div>\n",
       " </div>\n",
       " <img alt=\"NASA Briefing on First Mission to Study Mars Interior\" class=\"img-lazy\" data-lazy=\"/system/news_items/list_view_images/8322_PIA22228_320.jpg\" src=\"News_NASA_Mars_Exploration_Program_files/loading_320x240.png\"/>\n",
       " </a>\n",
       " </div>,\n",
       " <div class=\"image_and_description_container\">\n",
       " <a href=\"https://mars.nasa.gov/news/8387/nasa-announces-landing-site-for-mars-2020-rover/\">\n",
       " <div class=\"rollover_description\">\n",
       " <div class=\"rollover_description_inner\">\n",
       " After a five-year search, NASA has chosen Jezero Crater as the landing site for its upcoming Mars 2020 rover mission.\n",
       " </div>\n",
       " <div class=\"overlay_arrow\">\n",
       " <img alt=\"More\" src=\"News_NASA_Mars_Exploration_Program_files/overlay-arrow.png\"/>\n",
       " </div>\n",
       " </div>\n",
       " <img alt=\"NASA Announces Landing Site for Mars 2020 Rover\" class=\"img-lazy\" src=\"News_NASA_Mars_Exploration_Program_files/8387_JezeroCrater-320x240_002.jpg\" style=\"opacity: 1;\"/>\n",
       " </a>\n",
       " </div>,\n",
       " <div class=\"image_and_description_container\">\n",
       " <a href=\"https://mars.nasa.gov/news/8348/opportunity-hunkers-down-during-dust-storm/\">\n",
       " <div class=\"rollover_description\">\n",
       " <div class=\"rollover_description_inner\">\n",
       " It's the beginning of the end for the planet-encircling dust storm on \n",
       " Mars. But it could still be weeks, or even months, before skies are \n",
       " clear enough for NASA's Opportunity rover to recharge its batteries and \n",
       " phone home. \n",
       " </div>\n",
       " <div class=\"overlay_arrow\">\n",
       " <img alt=\"More\" src=\"News_NASA_Mars_Exploration_Program_files/overlay-arrow.png\"/>\n",
       " </div>\n",
       " </div>\n",
       " <img alt=\"Opportunity Hunkers Down During Dust Storm\" class=\"img-lazy\" src=\"News_NASA_Mars_Exploration_Program_files/8348_PIA22521-320_002.jpg\" style=\"opacity: 1;\"/>\n",
       " </a>\n",
       " </div>,\n",
       " <div class=\"image_and_description_container\">\n",
       " <a href=\"https://mars.nasa.gov/news/8347/nasa-finds-ancient-organic-material-mysterious-methane-on-mars/\">\n",
       " <div class=\"rollover_description\">\n",
       " <div class=\"rollover_description_inner\">\n",
       " NASAâ€™s Curiosity rover has found evidence on Mars with implications for NASAâ€™s search for life.\n",
       " </div>\n",
       " <div class=\"overlay_arrow\">\n",
       " <img alt=\"More\" src=\"News_NASA_Mars_Exploration_Program_files/overlay-arrow.png\"/>\n",
       " </div>\n",
       " </div>\n",
       " <img alt=\"NASA Finds Ancient Organic Material, Mysterious Methane on Mars\" class=\"img-lazy\" src=\"News_NASA_Mars_Exploration_Program_files/8347_curiosity_methane-320.jpg\" style=\"opacity: 1;\"/>\n",
       " </a>\n",
       " </div>,\n",
       " <div class=\"image_and_description_container\">\n",
       " <a href=\"https://mars.nasa.gov/news/8326/nasa-invests-in-visionary-technology/\">\n",
       " <div class=\"rollover_description\">\n",
       " <div class=\"rollover_description_inner\">\n",
       " NASA is investing in technology concepts, including several from JPL, \n",
       " that may one day be used for future space exploration missions.\n",
       " </div>\n",
       " <div class=\"overlay_arrow\">\n",
       " <img alt=\"More\" src=\"News_NASA_Mars_Exploration_Program_files/overlay-arrow.png\"/>\n",
       " </div>\n",
       " </div>\n",
       " <img alt=\"NASA Invests in Visionary Technology \" class=\"img-lazy\" data-lazy=\"/system/news_items/list_view_images/8326_niac320.jpg\" src=\"News_NASA_Mars_Exploration_Program_files/loading_320x240.png\"/>\n",
       " </a>\n",
       " </div>,\n",
       " <div class=\"image_and_description_container\">\n",
       " <a href=\"https://mars.nasa.gov/news/8325/nasa-is-ready-to-study-the-heart-of-mars/\">\n",
       " <div class=\"rollover_description\">\n",
       " <div class=\"rollover_description_inner\">\n",
       " NASA is about to go on a journey to study the center of Mars.\n",
       " </div>\n",
       " <div class=\"overlay_arrow\">\n",
       " <img alt=\"More\" src=\"News_NASA_Mars_Exploration_Program_files/overlay-arrow.png\"/>\n",
       " </div>\n",
       " </div>\n",
       " <img alt=\"NASA is Ready to Study the Heart of Mars\" class=\"img-lazy\" data-lazy=\"/system/news_items/list_view_images/8325_insight20180329b_320.jpg\" src=\"News_NASA_Mars_Exploration_Program_files/loading_320x240.png\"/>\n",
       " </a>\n",
       " </div>,\n",
       " <div class=\"image_and_description_container\">\n",
       " <a href=\"https://mars.nasa.gov/news/8322/nasa-briefing-on-first-mission-to-study-mars-interior/\">\n",
       " <div class=\"rollover_description\">\n",
       " <div class=\"rollover_description_inner\">\n",
       " NASAâ€™s next mission to Mars will be the topic of a media briefing \n",
       " Thursday, March 29, at JPL. The briefing will air live on NASA \n",
       " Television and the agencyâ€™s website.\n",
       " </div>\n",
       " <div class=\"overlay_arrow\">\n",
       " <img alt=\"More\" src=\"News_NASA_Mars_Exploration_Program_files/overlay-arrow.png\"/>\n",
       " </div>\n",
       " </div>\n",
       " <img alt=\"NASA Briefing on First Mission to Study Mars Interior\" class=\"img-lazy\" data-lazy=\"/system/news_items/list_view_images/8322_PIA22228_320.jpg\" src=\"News_NASA_Mars_Exploration_Program_files/loading_320x240.png\"/>\n",
       " </a>\n",
       " </div>,\n",
       " <div class=\"image_and_description_container\">\n",
       " <a href=\"https://mars.nasa.gov/news/8387/nasa-announces-landing-site-for-mars-2020-rover/\">\n",
       " <div class=\"rollover_description\">\n",
       " <div class=\"rollover_description_inner\">\n",
       " After a five-year search, NASA has chosen Jezero Crater as the landing site for its upcoming Mars 2020 rover mission.\n",
       " </div>\n",
       " <div class=\"overlay_arrow\">\n",
       " <img alt=\"More\" src=\"News_NASA_Mars_Exploration_Program_files/overlay-arrow.png\"/>\n",
       " </div>\n",
       " </div>\n",
       " <img alt=\"NASA Announces Landing Site for Mars 2020 Rover\" class=\"img-lazy\" src=\"News_NASA_Mars_Exploration_Program_files/8387_JezeroCrater-320x240_002.jpg\" style=\"opacity: 1;\"/>\n",
       " </a>\n",
       " </div>,\n",
       " <div class=\"image_and_description_container\">\n",
       " <a href=\"https://mars.nasa.gov/news/8348/opportunity-hunkers-down-during-dust-storm/\">\n",
       " <div class=\"rollover_description\">\n",
       " <div class=\"rollover_description_inner\">\n",
       " It's the beginning of the end for the planet-encircling dust storm on \n",
       " Mars. But it could still be weeks, or even months, before skies are \n",
       " clear enough for NASA's Opportunity rover to recharge its batteries and \n",
       " phone home. \n",
       " </div>\n",
       " <div class=\"overlay_arrow\">\n",
       " <img alt=\"More\" src=\"News_NASA_Mars_Exploration_Program_files/overlay-arrow.png\"/>\n",
       " </div>\n",
       " </div>\n",
       " <img alt=\"Opportunity Hunkers Down During Dust Storm\" class=\"img-lazy\" src=\"News_NASA_Mars_Exploration_Program_files/8348_PIA22521-320_002.jpg\" style=\"opacity: 1;\"/>\n",
       " </a>\n",
       " </div>]"
      ]
     },
     "execution_count": 14,
     "metadata": {},
     "output_type": "execute_result"
    }
   ],
   "source": [
    "results"
   ]
  },
  {
   "cell_type": "code",
   "execution_count": 15,
   "metadata": {},
   "outputs": [
    {
     "data": {
      "text/plain": [
       "'NASA InSight Landing on Mars: Milestones'"
      ]
     },
     "execution_count": 15,
     "metadata": {},
     "output_type": "execute_result"
    }
   ],
   "source": [
    "Title = news_soup.find('div', class_=\"content_title\").text\n",
    "Title"
   ]
  },
  {
   "cell_type": "code",
   "execution_count": 16,
   "metadata": {},
   "outputs": [
    {
     "data": {
      "text/plain": [
       "\"On\\n Nov. 26, NASA's InSight spacecraft will blaze through the Martian \\natmosphere and set a lander gently on the surface in less time than it \\ntakes to cook a hard-boiled egg.\""
      ]
     },
     "execution_count": 16,
     "metadata": {},
     "output_type": "execute_result"
    }
   ],
   "source": [
    "Article = news_soup.find('div', class_=\"article_teaser_body\").text\n",
    "Article"
   ]
  },
  {
   "cell_type": "code",
   "execution_count": 19,
   "metadata": {},
   "outputs": [],
   "source": [
    "Article = Article.replace(\"\\n\", \"\")"
   ]
  },
  {
   "cell_type": "code",
   "execution_count": 20,
   "metadata": {},
   "outputs": [
    {
     "data": {
      "text/plain": [
       "\"On Nov. 26, NASA's InSight spacecraft will blaze through the Martian atmosphere and set a lander gently on the surface in less time than it takes to cook a hard-boiled egg.\""
      ]
     },
     "execution_count": 20,
     "metadata": {},
     "output_type": "execute_result"
    }
   ],
   "source": [
    "Article"
   ]
  },
  {
   "cell_type": "markdown",
   "metadata": {},
   "source": [
    "## JPL Mars Space Images - Featured Image\n",
    "\n",
    "\n",
    "Visit the url for JPL Featured Space Image here.\n",
    "Use splinter to navigate the site and find the image url for the current Featured Mars Image and assign the url string to a variable called featured_image_url.\n",
    "Make sure to find the image url to the full size .jpg image.\n",
    "Make sure to save a complete url string for this image."
   ]
  },
  {
   "cell_type": "code",
   "execution_count": 21,
   "metadata": {},
   "outputs": [],
   "source": [
    "from splinter import Browser\n",
    "from splinter.exceptions import ElementDoesNotExist\n",
    "from bs4 import BeautifulSoup"
   ]
  },
  {
   "cell_type": "code",
   "execution_count": 22,
   "metadata": {},
   "outputs": [],
   "source": [
    "executable_path = {\"executable_path\": \"chromedriver.exe\"}\n",
    "browser = Browser(\"chrome\", **executable_path, headless=False)"
   ]
  },
  {
   "cell_type": "code",
   "execution_count": 23,
   "metadata": {},
   "outputs": [],
   "source": [
    "url = 'https://www.jpl.nasa.gov/spaceimages/?search=&category=Mars'\n",
    "browser.visit(url)"
   ]
  },
  {
   "cell_type": "code",
   "execution_count": 24,
   "metadata": {},
   "outputs": [],
   "source": [
    "html = browser.html\n",
    "soup = BeautifulSoup(html, 'html.parser')"
   ]
  },
  {
   "cell_type": "code",
   "execution_count": 25,
   "metadata": {},
   "outputs": [],
   "source": [
    "carousel = soup.find(class_=\"carousel_items\")"
   ]
  },
  {
   "cell_type": "code",
   "execution_count": 26,
   "metadata": {},
   "outputs": [
    {
     "data": {
      "text/plain": [
       "<article alt=\"The Day the Earth Smiled\" class=\"carousel_item\" style=\"background-image: url('/spaceimages/images/wallpaper/PIA17172-1920x1200.jpg');\">\n",
       "<div class=\"default floating_text_area ms-layer\">\n",
       "<h2 class=\"category_title\">\n",
       "</h2>\n",
       "<h2 class=\"brand_title\">\n",
       "\t\t\t\t  FEATURED IMAGE\n",
       "\t\t\t\t</h2>\n",
       "<h1 class=\"media_feature_title\">\n",
       "\t\t\t\t  The Day the Earth Smiled\t\t\t\t</h1>\n",
       "<div class=\"description\">\n",
       "</div>\n",
       "<footer>\n",
       "<a class=\"button fancybox\" data-description=\"On July 19, 2013, Cassini slipped into Saturn's shadow and turned to image the planet, seven of its moons, its inner rings and Earth.\" data-fancybox-group=\"images\" data-fancybox-href=\"/spaceimages/images/mediumsize/PIA17172_ip.jpg\" data-link=\"/spaceimages/details.php?id=PIA17172\" data-title=\"The Day the Earth Smiled\" id=\"full_image\">\n",
       "\t\t\t\t\tFULL IMAGE\n",
       "\t\t\t\t  </a>\n",
       "</footer>\n",
       "</div>\n",
       "<div class=\"gradient_container_top\"></div>\n",
       "<div class=\"gradient_container_bottom\"></div>\n",
       "</article>"
      ]
     },
     "execution_count": 26,
     "metadata": {},
     "output_type": "execute_result"
    }
   ],
   "source": [
    "carousel2 = soup.find(class_=\"carousel_item\")\n",
    "carousel2"
   ]
  },
  {
   "cell_type": "code",
   "execution_count": 27,
   "metadata": {},
   "outputs": [],
   "source": [
    "featured_image_url  = soup.find('article')['style'].replace('background-image: url(','').replace(');', '')[1:-1]\n"
   ]
  },
  {
   "cell_type": "code",
   "execution_count": 28,
   "metadata": {},
   "outputs": [],
   "source": [
    "featured_image_url = url + featured_image_url"
   ]
  },
  {
   "cell_type": "code",
   "execution_count": 29,
   "metadata": {},
   "outputs": [
    {
     "data": {
      "text/plain": [
       "'https://www.jpl.nasa.gov/spaceimages/?search=&category=Mars/spaceimages/images/wallpaper/PIA17172-1920x1200.jpg'"
      ]
     },
     "execution_count": 29,
     "metadata": {},
     "output_type": "execute_result"
    }
   ],
   "source": [
    "featured_image_url"
   ]
  },
  {
   "cell_type": "markdown",
   "metadata": {},
   "source": [
    "## MARS WEATHER\n",
    "\n",
    "Visit the Mars Weather twitter account here and scrape the latest Mars weather tweet from the page. Save the tweet text for the weather report as a variable called mars_weather."
   ]
  },
  {
   "cell_type": "code",
   "execution_count": 30,
   "metadata": {},
   "outputs": [],
   "source": [
    "weather_url = 'https://twitter.com/marswxreport?lang=en'\n",
    "browser.visit(weather_url)"
   ]
  },
  {
   "cell_type": "code",
   "execution_count": 31,
   "metadata": {},
   "outputs": [],
   "source": [
    "weather_html = browser.html\n",
    "soup = BeautifulSoup(weather_html, 'html.parser')"
   ]
  },
  {
   "cell_type": "code",
   "execution_count": 32,
   "metadata": {},
   "outputs": [
    {
     "data": {
      "text/plain": [
       "'Well done! That 30 minutes of EDL dust settling was very effective. Shame #InSight can’t act as a supercharger for @marsrovers Oppy, she sure could use a boost right now.https://twitter.com/nasainsight/status/1068661716756516864\\xa0…'"
      ]
     },
     "execution_count": 32,
     "metadata": {},
     "output_type": "execute_result"
    }
   ],
   "source": [
    "mars_weather = soup.find(class_='tweet-text').get_text()\n",
    "                    \n",
    "\n",
    "mars_weather"
   ]
  },
  {
   "cell_type": "markdown",
   "metadata": {},
   "source": [
    "## Mars Facts\n",
    "Visit the Mars Facts webpage here and use Pandas to scrape the table containing facts about the planet including Diameter, Mass, etc.\n",
    "\n",
    "Use Pandas to convert the data to a HTML table string."
   ]
  },
  {
   "cell_type": "code",
   "execution_count": 33,
   "metadata": {},
   "outputs": [],
   "source": [
    "facts_url = 'http://space-facts.com/mars/'\n",
    "browser.visit(facts_url)\n",
    "facts_html = browser.html\n",
    "soup = BeautifulSoup(facts_html, 'html.parser')"
   ]
  },
  {
   "cell_type": "code",
   "execution_count": 34,
   "metadata": {},
   "outputs": [],
   "source": [
    "import pandas as pd\n",
    "results = pd.read_html(facts_url)"
   ]
  },
  {
   "cell_type": "code",
   "execution_count": 35,
   "metadata": {},
   "outputs": [
    {
     "data": {
      "text/html": [
       "<div>\n",
       "<style scoped>\n",
       "    .dataframe tbody tr th:only-of-type {\n",
       "        vertical-align: middle;\n",
       "    }\n",
       "\n",
       "    .dataframe tbody tr th {\n",
       "        vertical-align: top;\n",
       "    }\n",
       "\n",
       "    .dataframe thead th {\n",
       "        text-align: right;\n",
       "    }\n",
       "</style>\n",
       "<table border=\"1\" class=\"dataframe\">\n",
       "  <thead>\n",
       "    <tr style=\"text-align: right;\">\n",
       "      <th></th>\n",
       "      <th>0</th>\n",
       "      <th>1</th>\n",
       "    </tr>\n",
       "  </thead>\n",
       "  <tbody>\n",
       "    <tr>\n",
       "      <th>0</th>\n",
       "      <td>Equatorial Diameter:</td>\n",
       "      <td>6,792 km</td>\n",
       "    </tr>\n",
       "    <tr>\n",
       "      <th>1</th>\n",
       "      <td>Polar Diameter:</td>\n",
       "      <td>6,752 km</td>\n",
       "    </tr>\n",
       "    <tr>\n",
       "      <th>2</th>\n",
       "      <td>Mass:</td>\n",
       "      <td>6.42 x 10^23 kg (10.7% Earth)</td>\n",
       "    </tr>\n",
       "    <tr>\n",
       "      <th>3</th>\n",
       "      <td>Moons:</td>\n",
       "      <td>2 (Phobos &amp; Deimos)</td>\n",
       "    </tr>\n",
       "    <tr>\n",
       "      <th>4</th>\n",
       "      <td>Orbit Distance:</td>\n",
       "      <td>227,943,824 km (1.52 AU)</td>\n",
       "    </tr>\n",
       "  </tbody>\n",
       "</table>\n",
       "</div>"
      ],
      "text/plain": [
       "                      0                              1\n",
       "0  Equatorial Diameter:                       6,792 km\n",
       "1       Polar Diameter:                       6,752 km\n",
       "2                 Mass:  6.42 x 10^23 kg (10.7% Earth)\n",
       "3                Moons:            2 (Phobos & Deimos)\n",
       "4       Orbit Distance:       227,943,824 km (1.52 AU)"
      ]
     },
     "execution_count": 35,
     "metadata": {},
     "output_type": "execute_result"
    }
   ],
   "source": [
    "df = results[0]\n",
    "df.head()"
   ]
  },
  {
   "cell_type": "code",
   "execution_count": 36,
   "metadata": {},
   "outputs": [],
   "source": [
    "df.set_index(0, inplace=True)\n",
    "df.index.names = [None]"
   ]
  },
  {
   "cell_type": "code",
   "execution_count": 37,
   "metadata": {},
   "outputs": [
    {
     "data": {
      "text/html": [
       "<div>\n",
       "<style scoped>\n",
       "    .dataframe tbody tr th:only-of-type {\n",
       "        vertical-align: middle;\n",
       "    }\n",
       "\n",
       "    .dataframe tbody tr th {\n",
       "        vertical-align: top;\n",
       "    }\n",
       "\n",
       "    .dataframe thead th {\n",
       "        text-align: right;\n",
       "    }\n",
       "</style>\n",
       "<table border=\"1\" class=\"dataframe\">\n",
       "  <thead>\n",
       "    <tr style=\"text-align: right;\">\n",
       "      <th></th>\n",
       "      <th></th>\n",
       "    </tr>\n",
       "  </thead>\n",
       "  <tbody>\n",
       "    <tr>\n",
       "      <th>Equatorial Diameter:</th>\n",
       "      <td>6,792 km</td>\n",
       "    </tr>\n",
       "    <tr>\n",
       "      <th>Polar Diameter:</th>\n",
       "      <td>6,752 km</td>\n",
       "    </tr>\n",
       "    <tr>\n",
       "      <th>Mass:</th>\n",
       "      <td>6.42 x 10^23 kg (10.7% Earth)</td>\n",
       "    </tr>\n",
       "    <tr>\n",
       "      <th>Moons:</th>\n",
       "      <td>2 (Phobos &amp; Deimos)</td>\n",
       "    </tr>\n",
       "    <tr>\n",
       "      <th>Orbit Distance:</th>\n",
       "      <td>227,943,824 km (1.52 AU)</td>\n",
       "    </tr>\n",
       "    <tr>\n",
       "      <th>Orbit Period:</th>\n",
       "      <td>687 days (1.9 years)</td>\n",
       "    </tr>\n",
       "    <tr>\n",
       "      <th>Surface Temperature:</th>\n",
       "      <td>-153 to 20 °C</td>\n",
       "    </tr>\n",
       "    <tr>\n",
       "      <th>First Record:</th>\n",
       "      <td>2nd millennium BC</td>\n",
       "    </tr>\n",
       "    <tr>\n",
       "      <th>Recorded By:</th>\n",
       "      <td>Egyptian astronomers</td>\n",
       "    </tr>\n",
       "  </tbody>\n",
       "</table>\n",
       "</div>"
      ],
      "text/plain": [
       "                                                   \n",
       "Equatorial Diameter:                       6,792 km\n",
       "Polar Diameter:                            6,752 km\n",
       "Mass:                 6.42 x 10^23 kg (10.7% Earth)\n",
       "Moons:                          2 (Phobos & Deimos)\n",
       "Orbit Distance:            227,943,824 km (1.52 AU)\n",
       "Orbit Period:                  687 days (1.9 years)\n",
       "Surface Temperature:                  -153 to 20 °C\n",
       "First Record:                     2nd millennium BC\n",
       "Recorded By:                   Egyptian astronomers"
      ]
     },
     "execution_count": 37,
     "metadata": {},
     "output_type": "execute_result"
    }
   ],
   "source": [
    "df.columns = [' ']\n",
    "df"
   ]
  },
  {
   "cell_type": "markdown",
   "metadata": {},
   "source": [
    "## Mars Hemispheres\n",
    "\n",
    "Visit the USGS Astrogeology site here to obtain high resolution images for each of Mar's hemispheres.\n",
    "You will need to click each of the links to the hemispheres in order to find the image url to the full resolution image.\n",
    "\n",
    "Save both the image url string for the full resolution hemisphere image, \n",
    "and the Hemisphere title containing the hemisphere name. Use a Python dictionary to store the data using \n",
    "the keys img_url and title.\n",
    "\n",
    "Append the dictionary with the image url string and the hemisphere title to a list. \n",
    "This list will contain one dictionary for each hemisphere."
   ]
  },
  {
   "cell_type": "code",
   "execution_count": 38,
   "metadata": {},
   "outputs": [],
   "source": [
    "hemi_url = 'https://astrogeology.usgs.gov/search/results?q=hemisphere+enhanced&k1=target&v1=Mars'\n",
    "browser.visit(hemi_url)\n",
    "hemi_html = browser.html\n",
    "soup = BeautifulSoup(hemi_html, 'html.parser')"
   ]
  },
  {
   "cell_type": "code",
   "execution_count": 39,
   "metadata": {},
   "outputs": [],
   "source": [
    "import time\n",
    "mars_hemis=[]"
   ]
  },
  {
   "cell_type": "code",
   "execution_count": 40,
   "metadata": {},
   "outputs": [],
   "source": [
    "for image in range (4):\n",
    "    time.sleep(5)\n",
    "    images = browser.find_by_tag('h3')\n",
    "    images[image].click()\n",
    "    html = browser.html\n",
    "    soup = BeautifulSoup(html, 'html.parser')\n",
    "    partial = soup.find(\"img\", class_=\"wide-image\")[\"src\"]\n",
    "    img_title = soup.find(\"h2\",class_=\"title\").text\n",
    "    img_url = 'https://astrogeology.usgs.gov'+ partial\n",
    "    dictionary={\"title\":img_title,\"img_url\":img_url}\n",
    "    mars_hemis.append(dictionary)\n",
    "    browser.back()\n",
    "    \n",
    "    \n"
   ]
  },
  {
   "cell_type": "code",
   "execution_count": 41,
   "metadata": {},
   "outputs": [
    {
     "name": "stdout",
     "output_type": "stream",
     "text": [
      "[{'title': 'Cerberus Hemisphere Enhanced', 'img_url': 'https://astrogeology.usgs.gov/cache/images/cfa62af2557222a02478f1fcd781d445_cerberus_enhanced.tif_full.jpg'}, {'title': 'Schiaparelli Hemisphere Enhanced', 'img_url': 'https://astrogeology.usgs.gov/cache/images/3cdd1cbf5e0813bba925c9030d13b62e_schiaparelli_enhanced.tif_full.jpg'}, {'title': 'Syrtis Major Hemisphere Enhanced', 'img_url': 'https://astrogeology.usgs.gov/cache/images/ae209b4e408bb6c3e67b6af38168cf28_syrtis_major_enhanced.tif_full.jpg'}, {'title': 'Valles Marineris Hemisphere Enhanced', 'img_url': 'https://astrogeology.usgs.gov/cache/images/7cf2da4bf549ed01c17f206327be4db7_valles_marineris_enhanced.tif_full.jpg'}]\n"
     ]
    }
   ],
   "source": [
    "print(mars_hemis)"
   ]
  },
  {
   "cell_type": "code",
   "execution_count": null,
   "metadata": {},
   "outputs": [],
   "source": []
  }
 ],
 "metadata": {
  "kernelspec": {
   "display_name": "Python 3",
   "language": "python",
   "name": "python3"
  },
  "language_info": {
   "codemirror_mode": {
    "name": "ipython",
    "version": 3
   },
   "file_extension": ".py",
   "mimetype": "text/x-python",
   "name": "python",
   "nbconvert_exporter": "python",
   "pygments_lexer": "ipython3",
   "version": "3.6.6"
  }
 },
 "nbformat": 4,
 "nbformat_minor": 2
}
